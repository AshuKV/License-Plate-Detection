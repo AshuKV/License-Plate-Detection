{
  "nbformat": 4,
  "nbformat_minor": 0,
  "metadata": {
    "kernelspec": {
      "display_name": "Python 3",
      "language": "python",
      "name": "python3"
    },
    "language_info": {
      "codemirror_mode": {
        "name": "ipython",
        "version": 3
      },
      "file_extension": ".py",
      "mimetype": "text/x-python",
      "name": "python",
      "nbconvert_exporter": "python",
      "pygments_lexer": "ipython3",
      "version": "3.7.4"
    },
    "colab": {
      "name": "Bounding_Box_Visualization.ipynb",
      "provenance": [],
      "collapsed_sections": [],
      "toc_visible": true
    }
  },
  "cells": [
    {
      "cell_type": "code",
      "metadata": {
        "id": "odNA4QeNLIZ1",
        "colab": {
          "base_uri": "https://localhost:8080/"
        },
        "outputId": "8d8b85c4-d4dd-4d24-ccea-3a67778ac899"
      },
      "source": [
        "!unzip Data-Images.zip"
      ],
      "execution_count": null,
      "outputs": [
        {
          "output_type": "stream",
          "text": [
            "unzip:  cannot find or open Data-Images.zip, Data-Images.zip.zip or Data-Images.zip.ZIP.\n"
          ],
          "name": "stdout"
        }
      ]
    },
    {
      "cell_type": "markdown",
      "metadata": {
        "id": "cL3rXkEu8-cJ"
      },
      "source": [
        "# Imports"
      ]
    },
    {
      "cell_type": "code",
      "metadata": {
        "id": "WYuZjnLS8-cK"
      },
      "source": [
        "import requests\n",
        "import random\n",
        "import numpy as np # linear algebra\n",
        "import pandas as pd # data processing, CSV file I/O (e.g. pd.read_csv)\n",
        "from PIL import Image\n",
        "import matplotlib.pyplot as plt\n",
        "import urllib\n",
        "import cv2\n",
        "\n",
        "import json"
      ],
      "execution_count": null,
      "outputs": []
    },
    {
      "cell_type": "code",
      "metadata": {
        "id": "tDVaJWZEgQSQ",
        "colab": {
          "base_uri": "https://localhost:8080/",
          "height": 35
        },
        "outputId": "b0dce0f5-ad04-4ab6-d344-138a57b211b2"
      },
      "source": [
        "pwd"
      ],
      "execution_count": null,
      "outputs": [
        {
          "output_type": "execute_result",
          "data": {
            "application/vnd.google.colaboratory.intrinsic+json": {
              "type": "string"
            },
            "text/plain": [
              "'/content'"
            ]
          },
          "metadata": {
            "tags": []
          },
          "execution_count": 4
        }
      ]
    },
    {
      "cell_type": "markdown",
      "metadata": {
        "id": "MjQXdGWn8-cN"
      },
      "source": [
        "# Load the `.json` file containing the download paths of the images"
      ]
    },
    {
      "cell_type": "code",
      "metadata": {
        "id": "1KaenEw48-cO",
        "colab": {
          "base_uri": "https://localhost:8080/",
          "height": 453
        },
        "outputId": "1e3e1e0f-7390-4c90-846a-522425e66088"
      },
      "source": [
        "# read the data\n",
        "data = pd.read_json('Indian_Number_plates.json',lines=True)\n",
        "pd.set_option('display.max_colwidth', -1)\n",
        "# delete the extras column\n",
        "del data['extras']\n",
        "# check the data dataframe\n",
        "data.head()"
      ],
      "execution_count": null,
      "outputs": [
        {
          "output_type": "stream",
          "text": [
            "/usr/local/lib/python3.6/dist-packages/ipykernel_launcher.py:3: FutureWarning: Passing a negative integer is deprecated in version 1.0 and will not be supported in future version. Instead, use None to not limit the column width.\n",
            "  This is separate from the ipykernel package so we can avoid doing imports until\n"
          ],
          "name": "stderr"
        },
        {
          "output_type": "execute_result",
          "data": {
            "text/html": [
              "<div>\n",
              "<style scoped>\n",
              "    .dataframe tbody tr th:only-of-type {\n",
              "        vertical-align: middle;\n",
              "    }\n",
              "\n",
              "    .dataframe tbody tr th {\n",
              "        vertical-align: top;\n",
              "    }\n",
              "\n",
              "    .dataframe thead th {\n",
              "        text-align: right;\n",
              "    }\n",
              "</style>\n",
              "<table border=\"1\" class=\"dataframe\">\n",
              "  <thead>\n",
              "    <tr style=\"text-align: right;\">\n",
              "      <th></th>\n",
              "      <th>content</th>\n",
              "      <th>annotation</th>\n",
              "    </tr>\n",
              "  </thead>\n",
              "  <tbody>\n",
              "    <tr>\n",
              "      <th>0</th>\n",
              "      <td>http://com.dataturks.a96-i23.open.s3.amazonaws.com/2c9fafb0646e9cf9016473f1a561002a/77d1f81a-bee6-487c-aff2-0efa31a9925c____bd7f7862-d727-11e7-ad30-e18a56154311.jpg.jpeg</td>\n",
              "      <td>[{'label': ['number_plate'], 'notes': '', 'points': [{'x': 0.722084367245657, 'y': 0.5879828326180251}, {'x': 0.8684863523573201, 'y': 0.688841201716738}], 'imageWidth': 806, 'imageHeight': 466}]</td>\n",
              "    </tr>\n",
              "    <tr>\n",
              "      <th>1</th>\n",
              "      <td>http://com.dataturks.a96-i23.open.s3.amazonaws.com/2c9fafb0646e9cf9016473f1a561002a/4eb236a3-6547-4103-b46f-3756d21128a9___06-Sanjay-Dutt.jpg.jpeg</td>\n",
              "      <td>[{'label': ['number_plate'], 'notes': '', 'points': [{'x': 0.16194331983805602, 'y': 0.850779510022271}, {'x': 0.582995951417004, 'y': 1}], 'imageWidth': 494, 'imageHeight': 449}]</td>\n",
              "    </tr>\n",
              "    <tr>\n",
              "      <th>2</th>\n",
              "      <td>http://com.dataturks.a96-i23.open.s3.amazonaws.com/2c9fafb0646e9cf9016473f1a561002a/84969111-2ec3-4914-b3bb-da5aaac701e7___1.jpg.jpeg</td>\n",
              "      <td>[{'label': ['number_plate'], 'notes': '', 'points': [{'x': 0.082, 'y': 0.697452229299363}, {'x': 0.23, 'y': 0.8280254777070061}], 'imageWidth': 500, 'imageHeight': 314}]</td>\n",
              "    </tr>\n",
              "    <tr>\n",
              "      <th>3</th>\n",
              "      <td>http://com.dataturks.a96-i23.open.s3.amazonaws.com/2c9fafb0646e9cf9016473f1a561002a/52b45060-9645-47c7-882d-b69a5bf07eff___1006372d1351343820-my-new-maruti-swift-zxi-21102012241.jpg.jpeg</td>\n",
              "      <td>[{'label': ['number_plate'], 'notes': '', 'points': [{'x': 0.434, 'y': 0.667377398720682}, {'x': 0.718, 'y': 0.7654584221748401}], 'imageWidth': 500, 'imageHeight': 469}]</td>\n",
              "    </tr>\n",
              "    <tr>\n",
              "      <th>4</th>\n",
              "      <td>http://com.dataturks.a96-i23.open.s3.amazonaws.com/2c9fafb0646e9cf9016473f1a561002a/5d08ee4a-d8e7-4fda-8959-21f263f62c25___100923d1368191518-custom-number-plates-embossedplates1.jpg.jpeg</td>\n",
              "      <td>[{'label': ['number_plate'], 'notes': '', 'points': [{'x': 0.20879120879120802, 'y': 0.39076376554174}, {'x': 0.865134865134865, 'y': 0.9840142095914741}], 'imageWidth': 1001, 'imageHeight': 563}]</td>\n",
              "    </tr>\n",
              "  </tbody>\n",
              "</table>\n",
              "</div>"
            ],
            "text/plain": [
              "                                                                                                                                                                                      content                                                                                                                                                                                            annotation\n",
              "0  http://com.dataturks.a96-i23.open.s3.amazonaws.com/2c9fafb0646e9cf9016473f1a561002a/77d1f81a-bee6-487c-aff2-0efa31a9925c____bd7f7862-d727-11e7-ad30-e18a56154311.jpg.jpeg                   [{'label': ['number_plate'], 'notes': '', 'points': [{'x': 0.722084367245657, 'y': 0.5879828326180251}, {'x': 0.8684863523573201, 'y': 0.688841201716738}], 'imageWidth': 806, 'imageHeight': 466}] \n",
              "1  http://com.dataturks.a96-i23.open.s3.amazonaws.com/2c9fafb0646e9cf9016473f1a561002a/4eb236a3-6547-4103-b46f-3756d21128a9___06-Sanjay-Dutt.jpg.jpeg                                          [{'label': ['number_plate'], 'notes': '', 'points': [{'x': 0.16194331983805602, 'y': 0.850779510022271}, {'x': 0.582995951417004, 'y': 1}], 'imageWidth': 494, 'imageHeight': 449}]                 \n",
              "2  http://com.dataturks.a96-i23.open.s3.amazonaws.com/2c9fafb0646e9cf9016473f1a561002a/84969111-2ec3-4914-b3bb-da5aaac701e7___1.jpg.jpeg                                                       [{'label': ['number_plate'], 'notes': '', 'points': [{'x': 0.082, 'y': 0.697452229299363}, {'x': 0.23, 'y': 0.8280254777070061}], 'imageWidth': 500, 'imageHeight': 314}]                           \n",
              "3  http://com.dataturks.a96-i23.open.s3.amazonaws.com/2c9fafb0646e9cf9016473f1a561002a/52b45060-9645-47c7-882d-b69a5bf07eff___1006372d1351343820-my-new-maruti-swift-zxi-21102012241.jpg.jpeg  [{'label': ['number_plate'], 'notes': '', 'points': [{'x': 0.434, 'y': 0.667377398720682}, {'x': 0.718, 'y': 0.7654584221748401}], 'imageWidth': 500, 'imageHeight': 469}]                          \n",
              "4  http://com.dataturks.a96-i23.open.s3.amazonaws.com/2c9fafb0646e9cf9016473f1a561002a/5d08ee4a-d8e7-4fda-8959-21f263f62c25___100923d1368191518-custom-number-plates-embossedplates1.jpg.jpeg  [{'label': ['number_plate'], 'notes': '', 'points': [{'x': 0.20879120879120802, 'y': 0.39076376554174}, {'x': 0.865134865134865, 'y': 0.9840142095914741}], 'imageWidth': 1001, 'imageHeight': 563}]"
            ]
          },
          "metadata": {
            "tags": []
          },
          "execution_count": 5
        }
      ]
    },
    {
      "cell_type": "code",
      "metadata": {
        "id": "YmpU7vqX8-cS",
        "colab": {
          "base_uri": "https://localhost:8080/",
          "height": 297
        },
        "outputId": "bf4698a2-4ce7-46c0-bb26-2f8798caf9bc"
      },
      "source": [
        "# Extract the points of the bounding boxes because thats what we want\n",
        "data['points'] = data.apply(lambda row: row['annotation'][0]['points'], axis=1)\n",
        "\n",
        "data['height'] = data.apply(lambda row: row['annotation'][0]['imageHeight'], axis=1)\n",
        "data['width'] = data.apply(lambda row: row['annotation'][0]['imageWidth'], axis=1)\n",
        "# And drop the rest of the annotation info\n",
        "del data['annotation']\n",
        "\n",
        "data.head()"
      ],
      "execution_count": null,
      "outputs": [
        {
          "output_type": "execute_result",
          "data": {
            "text/html": [
              "<div>\n",
              "<style scoped>\n",
              "    .dataframe tbody tr th:only-of-type {\n",
              "        vertical-align: middle;\n",
              "    }\n",
              "\n",
              "    .dataframe tbody tr th {\n",
              "        vertical-align: top;\n",
              "    }\n",
              "\n",
              "    .dataframe thead th {\n",
              "        text-align: right;\n",
              "    }\n",
              "</style>\n",
              "<table border=\"1\" class=\"dataframe\">\n",
              "  <thead>\n",
              "    <tr style=\"text-align: right;\">\n",
              "      <th></th>\n",
              "      <th>content</th>\n",
              "      <th>points</th>\n",
              "      <th>height</th>\n",
              "      <th>width</th>\n",
              "    </tr>\n",
              "  </thead>\n",
              "  <tbody>\n",
              "    <tr>\n",
              "      <th>0</th>\n",
              "      <td>http://com.dataturks.a96-i23.open.s3.amazonaws.com/2c9fafb0646e9cf9016473f1a561002a/77d1f81a-bee6-487c-aff2-0efa31a9925c____bd7f7862-d727-11e7-ad30-e18a56154311.jpg.jpeg</td>\n",
              "      <td>[{'x': 0.722084367245657, 'y': 0.5879828326180251}, {'x': 0.8684863523573201, 'y': 0.688841201716738}]</td>\n",
              "      <td>466</td>\n",
              "      <td>806</td>\n",
              "    </tr>\n",
              "    <tr>\n",
              "      <th>1</th>\n",
              "      <td>http://com.dataturks.a96-i23.open.s3.amazonaws.com/2c9fafb0646e9cf9016473f1a561002a/4eb236a3-6547-4103-b46f-3756d21128a9___06-Sanjay-Dutt.jpg.jpeg</td>\n",
              "      <td>[{'x': 0.16194331983805602, 'y': 0.850779510022271}, {'x': 0.582995951417004, 'y': 1}]</td>\n",
              "      <td>449</td>\n",
              "      <td>494</td>\n",
              "    </tr>\n",
              "    <tr>\n",
              "      <th>2</th>\n",
              "      <td>http://com.dataturks.a96-i23.open.s3.amazonaws.com/2c9fafb0646e9cf9016473f1a561002a/84969111-2ec3-4914-b3bb-da5aaac701e7___1.jpg.jpeg</td>\n",
              "      <td>[{'x': 0.082, 'y': 0.697452229299363}, {'x': 0.23, 'y': 0.8280254777070061}]</td>\n",
              "      <td>314</td>\n",
              "      <td>500</td>\n",
              "    </tr>\n",
              "    <tr>\n",
              "      <th>3</th>\n",
              "      <td>http://com.dataturks.a96-i23.open.s3.amazonaws.com/2c9fafb0646e9cf9016473f1a561002a/52b45060-9645-47c7-882d-b69a5bf07eff___1006372d1351343820-my-new-maruti-swift-zxi-21102012241.jpg.jpeg</td>\n",
              "      <td>[{'x': 0.434, 'y': 0.667377398720682}, {'x': 0.718, 'y': 0.7654584221748401}]</td>\n",
              "      <td>469</td>\n",
              "      <td>500</td>\n",
              "    </tr>\n",
              "    <tr>\n",
              "      <th>4</th>\n",
              "      <td>http://com.dataturks.a96-i23.open.s3.amazonaws.com/2c9fafb0646e9cf9016473f1a561002a/5d08ee4a-d8e7-4fda-8959-21f263f62c25___100923d1368191518-custom-number-plates-embossedplates1.jpg.jpeg</td>\n",
              "      <td>[{'x': 0.20879120879120802, 'y': 0.39076376554174}, {'x': 0.865134865134865, 'y': 0.9840142095914741}]</td>\n",
              "      <td>563</td>\n",
              "      <td>1001</td>\n",
              "    </tr>\n",
              "  </tbody>\n",
              "</table>\n",
              "</div>"
            ],
            "text/plain": [
              "                                                                                                                                                                                      content  ... width\n",
              "0  http://com.dataturks.a96-i23.open.s3.amazonaws.com/2c9fafb0646e9cf9016473f1a561002a/77d1f81a-bee6-487c-aff2-0efa31a9925c____bd7f7862-d727-11e7-ad30-e18a56154311.jpg.jpeg                   ...  806 \n",
              "1  http://com.dataturks.a96-i23.open.s3.amazonaws.com/2c9fafb0646e9cf9016473f1a561002a/4eb236a3-6547-4103-b46f-3756d21128a9___06-Sanjay-Dutt.jpg.jpeg                                          ...  494 \n",
              "2  http://com.dataturks.a96-i23.open.s3.amazonaws.com/2c9fafb0646e9cf9016473f1a561002a/84969111-2ec3-4914-b3bb-da5aaac701e7___1.jpg.jpeg                                                       ...  500 \n",
              "3  http://com.dataturks.a96-i23.open.s3.amazonaws.com/2c9fafb0646e9cf9016473f1a561002a/52b45060-9645-47c7-882d-b69a5bf07eff___1006372d1351343820-my-new-maruti-swift-zxi-21102012241.jpg.jpeg  ...  500 \n",
              "4  http://com.dataturks.a96-i23.open.s3.amazonaws.com/2c9fafb0646e9cf9016473f1a561002a/5d08ee4a-d8e7-4fda-8959-21f263f62c25___100923d1368191518-custom-number-plates-embossedplates1.jpg.jpeg  ...  1001\n",
              "\n",
              "[5 rows x 4 columns]"
            ]
          },
          "metadata": {
            "tags": []
          },
          "execution_count": 6
        }
      ]
    },
    {
      "cell_type": "code",
      "metadata": {
        "id": "wXgSwvpz8-cW"
      },
      "source": [
        "Images = []\n",
        "Plates = []\n",
        "Points = []\n",
        "\n",
        "def downloadTraining(df):\n",
        "\n",
        "    for index, row in df.iterrows():\n",
        "\n",
        "        # Get the image from the URL\n",
        "        resp = urllib.request.urlopen(row[0])\n",
        "        im = np.array(Image.open(resp))  # This is a numpy 3D array \n",
        "        \n",
        "        # We append the image to the training input array\n",
        "        Images.append(im)\n",
        "\n",
        "        # Points of rectangle\n",
        "        x_point_top = row[1][0]['x']*im.shape[1]\n",
        "        y_point_top = row[1][0]['y']*im.shape[0]\n",
        "        x_point_bot = row[1][1]['x']*im.shape[1]\n",
        "        y_point_bot = row[1][1]['y']*im.shape[0]\n",
        "        Points.append([int(x_point_top), int(y_point_top),int(x_point_bot), int(y_point_bot)])\n",
        "        \n",
        "        # Cut the plate from the image and use it as output\n",
        "        carImage = Image.fromarray(im)\n",
        "        plateImage = carImage.crop((x_point_top, y_point_top, x_point_bot, y_point_bot))\n",
        "        Plates.append(np.array(plateImage))\n",
        "downloadTraining(data)"
      ],
      "execution_count": null,
      "outputs": []
    },
    {
      "cell_type": "code",
      "metadata": {
        "id": "Mw_796_YCp__",
        "colab": {
          "base_uri": "https://localhost:8080/",
          "height": 34
        },
        "outputId": "e771cd3c-26de-4dcc-fbdd-40eaa42559c9"
      },
      "source": [
        "len(Points)"
      ],
      "execution_count": null,
      "outputs": [
        {
          "output_type": "execute_result",
          "data": {
            "text/plain": [
              "237"
            ]
          },
          "metadata": {
            "tags": []
          },
          "execution_count": 8
        }
      ]
    },
    {
      "cell_type": "markdown",
      "metadata": {
        "id": "GKPgTJNK8-cY"
      },
      "source": [
        "# To check the x_min,y_min,x_max,y_max"
      ]
    },
    {
      "cell_type": "code",
      "metadata": {
        "id": "IlctY5ac8-cZ",
        "colab": {
          "base_uri": "https://localhost:8080/",
          "height": 194
        },
        "outputId": "cf580bc9-875e-4210-d781-3beec765e4e2"
      },
      "source": [
        "# This gives the format of the annotations\n",
        "Points[:10]"
      ],
      "execution_count": null,
      "outputs": [
        {
          "output_type": "execute_result",
          "data": {
            "text/plain": [
              "[[581, 273, 700, 320],\n",
              " [79, 381, 288, 449],\n",
              " [41, 219, 115, 259],\n",
              " [217, 312, 359, 359],\n",
              " [208, 219, 865, 553],\n",
              " [105, 279, 260, 335],\n",
              " [226, 240, 443, 314],\n",
              " [266, 247, 396, 320],\n",
              " [644, 507, 892, 578],\n",
              " [674, 364, 957, 572]]"
            ]
          },
          "metadata": {
            "tags": []
          },
          "execution_count": 9
        }
      ]
    },
    {
      "cell_type": "markdown",
      "metadata": {
        "id": "Cp99wvdMLLe7"
      },
      "source": [
        "# Dataframe construction"
      ]
    },
    {
      "cell_type": "code",
      "metadata": {
        "id": "RmjOXw-yEO4F",
        "colab": {
          "base_uri": "https://localhost:8080/",
          "height": 197
        },
        "outputId": "d673fbf9-cf1c-4052-937d-7fe3e5a70011"
      },
      "source": [
        "main_df = pd.DataFrame([row for row in Points], columns=['xmin', 'ymin', 'xmax', 'ymax'])\n",
        "main_df.head()"
      ],
      "execution_count": null,
      "outputs": [
        {
          "output_type": "execute_result",
          "data": {
            "text/html": [
              "<div>\n",
              "<style scoped>\n",
              "    .dataframe tbody tr th:only-of-type {\n",
              "        vertical-align: middle;\n",
              "    }\n",
              "\n",
              "    .dataframe tbody tr th {\n",
              "        vertical-align: top;\n",
              "    }\n",
              "\n",
              "    .dataframe thead th {\n",
              "        text-align: right;\n",
              "    }\n",
              "</style>\n",
              "<table border=\"1\" class=\"dataframe\">\n",
              "  <thead>\n",
              "    <tr style=\"text-align: right;\">\n",
              "      <th></th>\n",
              "      <th>xmin</th>\n",
              "      <th>ymin</th>\n",
              "      <th>xmax</th>\n",
              "      <th>ymax</th>\n",
              "    </tr>\n",
              "  </thead>\n",
              "  <tbody>\n",
              "    <tr>\n",
              "      <th>0</th>\n",
              "      <td>581</td>\n",
              "      <td>273</td>\n",
              "      <td>700</td>\n",
              "      <td>320</td>\n",
              "    </tr>\n",
              "    <tr>\n",
              "      <th>1</th>\n",
              "      <td>79</td>\n",
              "      <td>381</td>\n",
              "      <td>288</td>\n",
              "      <td>449</td>\n",
              "    </tr>\n",
              "    <tr>\n",
              "      <th>2</th>\n",
              "      <td>41</td>\n",
              "      <td>219</td>\n",
              "      <td>115</td>\n",
              "      <td>259</td>\n",
              "    </tr>\n",
              "    <tr>\n",
              "      <th>3</th>\n",
              "      <td>217</td>\n",
              "      <td>312</td>\n",
              "      <td>359</td>\n",
              "      <td>359</td>\n",
              "    </tr>\n",
              "    <tr>\n",
              "      <th>4</th>\n",
              "      <td>208</td>\n",
              "      <td>219</td>\n",
              "      <td>865</td>\n",
              "      <td>553</td>\n",
              "    </tr>\n",
              "  </tbody>\n",
              "</table>\n",
              "</div>"
            ],
            "text/plain": [
              "   xmin  ymin  xmax  ymax\n",
              "0  581   273   700   320 \n",
              "1  79    381   288   449 \n",
              "2  41    219   115   259 \n",
              "3  217   312   359   359 \n",
              "4  208   219   865   553 "
            ]
          },
          "metadata": {
            "tags": []
          },
          "execution_count": 10
        }
      ]
    },
    {
      "cell_type": "markdown",
      "metadata": {
        "id": "NC7s4dqILQdp"
      },
      "source": [
        "# The great (not really) filename generation hack"
      ]
    },
    {
      "cell_type": "code",
      "metadata": {
        "id": "vJeIRFoHF2Dl",
        "colab": {
          "base_uri": "https://localhost:8080/",
          "height": 194
        },
        "outputId": "30f88baf-4a82-45f4-a091-f47033b2da1c"
      },
      "source": [
        "images_path = 'Data-Images/Cars/'\n",
        "give_me_236 = [images_path + str(i) + '.jpg' for i in list(range(0, 237))]\n",
        "give_me_236[:10]\n"
      ],
      "execution_count": null,
      "outputs": [
        {
          "output_type": "execute_result",
          "data": {
            "text/plain": [
              "['Data-Images/Cars/0.jpg',\n",
              " 'Data-Images/Cars/1.jpg',\n",
              " 'Data-Images/Cars/2.jpg',\n",
              " 'Data-Images/Cars/3.jpg',\n",
              " 'Data-Images/Cars/4.jpg',\n",
              " 'Data-Images/Cars/5.jpg',\n",
              " 'Data-Images/Cars/6.jpg',\n",
              " 'Data-Images/Cars/7.jpg',\n",
              " 'Data-Images/Cars/8.jpg',\n",
              " 'Data-Images/Cars/9.jpg']"
            ]
          },
          "metadata": {
            "tags": []
          },
          "execution_count": 11
        }
      ]
    },
    {
      "cell_type": "code",
      "metadata": {
        "id": "NX5AGKc2GjVg",
        "colab": {
          "base_uri": "https://localhost:8080/",
          "height": 347
        },
        "outputId": "b2e7590d-66f5-414d-cb0d-4445318af49a"
      },
      "source": [
        "main_df['filename'] = give_me_236\n",
        "main_df.head(10)"
      ],
      "execution_count": null,
      "outputs": [
        {
          "output_type": "execute_result",
          "data": {
            "text/html": [
              "<div>\n",
              "<style scoped>\n",
              "    .dataframe tbody tr th:only-of-type {\n",
              "        vertical-align: middle;\n",
              "    }\n",
              "\n",
              "    .dataframe tbody tr th {\n",
              "        vertical-align: top;\n",
              "    }\n",
              "\n",
              "    .dataframe thead th {\n",
              "        text-align: right;\n",
              "    }\n",
              "</style>\n",
              "<table border=\"1\" class=\"dataframe\">\n",
              "  <thead>\n",
              "    <tr style=\"text-align: right;\">\n",
              "      <th></th>\n",
              "      <th>xmin</th>\n",
              "      <th>ymin</th>\n",
              "      <th>xmax</th>\n",
              "      <th>ymax</th>\n",
              "      <th>filename</th>\n",
              "    </tr>\n",
              "  </thead>\n",
              "  <tbody>\n",
              "    <tr>\n",
              "      <th>0</th>\n",
              "      <td>581</td>\n",
              "      <td>273</td>\n",
              "      <td>700</td>\n",
              "      <td>320</td>\n",
              "      <td>Data-Images/Cars/0.jpg</td>\n",
              "    </tr>\n",
              "    <tr>\n",
              "      <th>1</th>\n",
              "      <td>79</td>\n",
              "      <td>381</td>\n",
              "      <td>288</td>\n",
              "      <td>449</td>\n",
              "      <td>Data-Images/Cars/1.jpg</td>\n",
              "    </tr>\n",
              "    <tr>\n",
              "      <th>2</th>\n",
              "      <td>41</td>\n",
              "      <td>219</td>\n",
              "      <td>115</td>\n",
              "      <td>259</td>\n",
              "      <td>Data-Images/Cars/2.jpg</td>\n",
              "    </tr>\n",
              "    <tr>\n",
              "      <th>3</th>\n",
              "      <td>217</td>\n",
              "      <td>312</td>\n",
              "      <td>359</td>\n",
              "      <td>359</td>\n",
              "      <td>Data-Images/Cars/3.jpg</td>\n",
              "    </tr>\n",
              "    <tr>\n",
              "      <th>4</th>\n",
              "      <td>208</td>\n",
              "      <td>219</td>\n",
              "      <td>865</td>\n",
              "      <td>553</td>\n",
              "      <td>Data-Images/Cars/4.jpg</td>\n",
              "    </tr>\n",
              "    <tr>\n",
              "      <th>5</th>\n",
              "      <td>105</td>\n",
              "      <td>279</td>\n",
              "      <td>260</td>\n",
              "      <td>335</td>\n",
              "      <td>Data-Images/Cars/5.jpg</td>\n",
              "    </tr>\n",
              "    <tr>\n",
              "      <th>6</th>\n",
              "      <td>226</td>\n",
              "      <td>240</td>\n",
              "      <td>443</td>\n",
              "      <td>314</td>\n",
              "      <td>Data-Images/Cars/6.jpg</td>\n",
              "    </tr>\n",
              "    <tr>\n",
              "      <th>7</th>\n",
              "      <td>266</td>\n",
              "      <td>247</td>\n",
              "      <td>396</td>\n",
              "      <td>320</td>\n",
              "      <td>Data-Images/Cars/7.jpg</td>\n",
              "    </tr>\n",
              "    <tr>\n",
              "      <th>8</th>\n",
              "      <td>644</td>\n",
              "      <td>507</td>\n",
              "      <td>892</td>\n",
              "      <td>578</td>\n",
              "      <td>Data-Images/Cars/8.jpg</td>\n",
              "    </tr>\n",
              "    <tr>\n",
              "      <th>9</th>\n",
              "      <td>674</td>\n",
              "      <td>364</td>\n",
              "      <td>957</td>\n",
              "      <td>572</td>\n",
              "      <td>Data-Images/Cars/9.jpg</td>\n",
              "    </tr>\n",
              "  </tbody>\n",
              "</table>\n",
              "</div>"
            ],
            "text/plain": [
              "   xmin  ymin  xmax  ymax                filename\n",
              "0  581   273   700   320   Data-Images/Cars/0.jpg\n",
              "1  79    381   288   449   Data-Images/Cars/1.jpg\n",
              "2  41    219   115   259   Data-Images/Cars/2.jpg\n",
              "3  217   312   359   359   Data-Images/Cars/3.jpg\n",
              "4  208   219   865   553   Data-Images/Cars/4.jpg\n",
              "5  105   279   260   335   Data-Images/Cars/5.jpg\n",
              "6  226   240   443   314   Data-Images/Cars/6.jpg\n",
              "7  266   247   396   320   Data-Images/Cars/7.jpg\n",
              "8  644   507   892   578   Data-Images/Cars/8.jpg\n",
              "9  674   364   957   572   Data-Images/Cars/9.jpg"
            ]
          },
          "metadata": {
            "tags": []
          },
          "execution_count": 12
        }
      ]
    },
    {
      "cell_type": "code",
      "metadata": {
        "id": "ntPjwW7gGtX6",
        "colab": {
          "base_uri": "https://localhost:8080/",
          "height": 197
        },
        "outputId": "e4306d93-4eef-44fe-822f-7201f1ae6a06"
      },
      "source": [
        "main_df['width'] = main_df['xmax'] - main_df['xmin']\n",
        "main_df['height'] = main_df['ymax'] - main_df['ymin']\n",
        "\n",
        "main_df.head()"
      ],
      "execution_count": null,
      "outputs": [
        {
          "output_type": "execute_result",
          "data": {
            "text/html": [
              "<div>\n",
              "<style scoped>\n",
              "    .dataframe tbody tr th:only-of-type {\n",
              "        vertical-align: middle;\n",
              "    }\n",
              "\n",
              "    .dataframe tbody tr th {\n",
              "        vertical-align: top;\n",
              "    }\n",
              "\n",
              "    .dataframe thead th {\n",
              "        text-align: right;\n",
              "    }\n",
              "</style>\n",
              "<table border=\"1\" class=\"dataframe\">\n",
              "  <thead>\n",
              "    <tr style=\"text-align: right;\">\n",
              "      <th></th>\n",
              "      <th>xmin</th>\n",
              "      <th>ymin</th>\n",
              "      <th>xmax</th>\n",
              "      <th>ymax</th>\n",
              "      <th>filename</th>\n",
              "      <th>width</th>\n",
              "      <th>height</th>\n",
              "    </tr>\n",
              "  </thead>\n",
              "  <tbody>\n",
              "    <tr>\n",
              "      <th>0</th>\n",
              "      <td>581</td>\n",
              "      <td>273</td>\n",
              "      <td>700</td>\n",
              "      <td>320</td>\n",
              "      <td>Data-Images/Cars/0.jpg</td>\n",
              "      <td>119</td>\n",
              "      <td>47</td>\n",
              "    </tr>\n",
              "    <tr>\n",
              "      <th>1</th>\n",
              "      <td>79</td>\n",
              "      <td>381</td>\n",
              "      <td>288</td>\n",
              "      <td>449</td>\n",
              "      <td>Data-Images/Cars/1.jpg</td>\n",
              "      <td>209</td>\n",
              "      <td>68</td>\n",
              "    </tr>\n",
              "    <tr>\n",
              "      <th>2</th>\n",
              "      <td>41</td>\n",
              "      <td>219</td>\n",
              "      <td>115</td>\n",
              "      <td>259</td>\n",
              "      <td>Data-Images/Cars/2.jpg</td>\n",
              "      <td>74</td>\n",
              "      <td>40</td>\n",
              "    </tr>\n",
              "    <tr>\n",
              "      <th>3</th>\n",
              "      <td>217</td>\n",
              "      <td>312</td>\n",
              "      <td>359</td>\n",
              "      <td>359</td>\n",
              "      <td>Data-Images/Cars/3.jpg</td>\n",
              "      <td>142</td>\n",
              "      <td>47</td>\n",
              "    </tr>\n",
              "    <tr>\n",
              "      <th>4</th>\n",
              "      <td>208</td>\n",
              "      <td>219</td>\n",
              "      <td>865</td>\n",
              "      <td>553</td>\n",
              "      <td>Data-Images/Cars/4.jpg</td>\n",
              "      <td>657</td>\n",
              "      <td>334</td>\n",
              "    </tr>\n",
              "  </tbody>\n",
              "</table>\n",
              "</div>"
            ],
            "text/plain": [
              "   xmin  ymin  xmax  ymax                filename  width  height\n",
              "0  581   273   700   320   Data-Images/Cars/0.jpg  119    47    \n",
              "1  79    381   288   449   Data-Images/Cars/1.jpg  209    68    \n",
              "2  41    219   115   259   Data-Images/Cars/2.jpg  74     40    \n",
              "3  217   312   359   359   Data-Images/Cars/3.jpg  142    47    \n",
              "4  208   219   865   553   Data-Images/Cars/4.jpg  657    334   "
            ]
          },
          "metadata": {
            "tags": []
          },
          "execution_count": 13
        }
      ]
    },
    {
      "cell_type": "code",
      "metadata": {
        "id": "PfrihGPvHejR",
        "colab": {
          "base_uri": "https://localhost:8080/",
          "height": 197
        },
        "outputId": "de68d373-c028-45d2-ad27-f45110fcd4d7"
      },
      "source": [
        "modified_df = pd.DataFrame()\n",
        "modified_df['filename'] = main_df['filename']\n",
        "modified_df['width'] = main_df['width']\n",
        "modified_df['height'] = main_df['height']\n",
        "modified_df['class'] = 'license_plate'\n",
        "modified_df['xmin'] = main_df['xmin']\n",
        "modified_df['ymin'] = main_df['ymin']\n",
        "modified_df['xmax'] = main_df['xmax']\n",
        "modified_df['ymax'] = main_df['ymax']\n",
        "\n",
        "modified_df.head()"
      ],
      "execution_count": null,
      "outputs": [
        {
          "output_type": "execute_result",
          "data": {
            "text/html": [
              "<div>\n",
              "<style scoped>\n",
              "    .dataframe tbody tr th:only-of-type {\n",
              "        vertical-align: middle;\n",
              "    }\n",
              "\n",
              "    .dataframe tbody tr th {\n",
              "        vertical-align: top;\n",
              "    }\n",
              "\n",
              "    .dataframe thead th {\n",
              "        text-align: right;\n",
              "    }\n",
              "</style>\n",
              "<table border=\"1\" class=\"dataframe\">\n",
              "  <thead>\n",
              "    <tr style=\"text-align: right;\">\n",
              "      <th></th>\n",
              "      <th>filename</th>\n",
              "      <th>width</th>\n",
              "      <th>height</th>\n",
              "      <th>class</th>\n",
              "      <th>xmin</th>\n",
              "      <th>ymin</th>\n",
              "      <th>xmax</th>\n",
              "      <th>ymax</th>\n",
              "    </tr>\n",
              "  </thead>\n",
              "  <tbody>\n",
              "    <tr>\n",
              "      <th>0</th>\n",
              "      <td>Data-Images/Cars/0.jpg</td>\n",
              "      <td>119</td>\n",
              "      <td>47</td>\n",
              "      <td>license_plate</td>\n",
              "      <td>581</td>\n",
              "      <td>273</td>\n",
              "      <td>700</td>\n",
              "      <td>320</td>\n",
              "    </tr>\n",
              "    <tr>\n",
              "      <th>1</th>\n",
              "      <td>Data-Images/Cars/1.jpg</td>\n",
              "      <td>209</td>\n",
              "      <td>68</td>\n",
              "      <td>license_plate</td>\n",
              "      <td>79</td>\n",
              "      <td>381</td>\n",
              "      <td>288</td>\n",
              "      <td>449</td>\n",
              "    </tr>\n",
              "    <tr>\n",
              "      <th>2</th>\n",
              "      <td>Data-Images/Cars/2.jpg</td>\n",
              "      <td>74</td>\n",
              "      <td>40</td>\n",
              "      <td>license_plate</td>\n",
              "      <td>41</td>\n",
              "      <td>219</td>\n",
              "      <td>115</td>\n",
              "      <td>259</td>\n",
              "    </tr>\n",
              "    <tr>\n",
              "      <th>3</th>\n",
              "      <td>Data-Images/Cars/3.jpg</td>\n",
              "      <td>142</td>\n",
              "      <td>47</td>\n",
              "      <td>license_plate</td>\n",
              "      <td>217</td>\n",
              "      <td>312</td>\n",
              "      <td>359</td>\n",
              "      <td>359</td>\n",
              "    </tr>\n",
              "    <tr>\n",
              "      <th>4</th>\n",
              "      <td>Data-Images/Cars/4.jpg</td>\n",
              "      <td>657</td>\n",
              "      <td>334</td>\n",
              "      <td>license_plate</td>\n",
              "      <td>208</td>\n",
              "      <td>219</td>\n",
              "      <td>865</td>\n",
              "      <td>553</td>\n",
              "    </tr>\n",
              "  </tbody>\n",
              "</table>\n",
              "</div>"
            ],
            "text/plain": [
              "                 filename  width  height          class  xmin  ymin  xmax  ymax\n",
              "0  Data-Images/Cars/0.jpg  119    47      license_plate  581   273   700   320 \n",
              "1  Data-Images/Cars/1.jpg  209    68      license_plate  79    381   288   449 \n",
              "2  Data-Images/Cars/2.jpg  74     40      license_plate  41    219   115   259 \n",
              "3  Data-Images/Cars/3.jpg  142    47      license_plate  217   312   359   359 \n",
              "4  Data-Images/Cars/4.jpg  657    334     license_plate  208   219   865   553 "
            ]
          },
          "metadata": {
            "tags": []
          },
          "execution_count": 14
        }
      ]
    },
    {
      "cell_type": "markdown",
      "metadata": {
        "id": "bGTewHBILWXf"
      },
      "source": [
        "Booh yeah! We have the data in the right format (for TensorFlow Object Detection API). "
      ]
    },
    {
      "cell_type": "markdown",
      "metadata": {
        "id": "ko-OkesnLcYQ"
      },
      "source": [
        "# Splits"
      ]
    },
    {
      "cell_type": "code",
      "metadata": {
        "id": "QnxTRPPzIfUN"
      },
      "source": [
        "# 95% for train\n",
        "train_labels = modified_df.sample(frac=0.95)\n",
        "modified_df.drop(train_labels.index, axis=0, inplace=True)\n",
        "\n",
        "# 5% for test\n",
        "test_labels = modified_df"
      ],
      "execution_count": null,
      "outputs": []
    },
    {
      "cell_type": "code",
      "metadata": {
        "id": "dk1ZD7T9JJZT",
        "colab": {
          "base_uri": "https://localhost:8080/",
          "height": 197
        },
        "outputId": "10a018af-732c-409e-9b9f-d7da5a19ca89"
      },
      "source": [
        "train_labels.head()"
      ],
      "execution_count": null,
      "outputs": [
        {
          "output_type": "execute_result",
          "data": {
            "text/html": [
              "<div>\n",
              "<style scoped>\n",
              "    .dataframe tbody tr th:only-of-type {\n",
              "        vertical-align: middle;\n",
              "    }\n",
              "\n",
              "    .dataframe tbody tr th {\n",
              "        vertical-align: top;\n",
              "    }\n",
              "\n",
              "    .dataframe thead th {\n",
              "        text-align: right;\n",
              "    }\n",
              "</style>\n",
              "<table border=\"1\" class=\"dataframe\">\n",
              "  <thead>\n",
              "    <tr style=\"text-align: right;\">\n",
              "      <th></th>\n",
              "      <th>filename</th>\n",
              "      <th>width</th>\n",
              "      <th>height</th>\n",
              "      <th>class</th>\n",
              "      <th>xmin</th>\n",
              "      <th>ymin</th>\n",
              "      <th>xmax</th>\n",
              "      <th>ymax</th>\n",
              "    </tr>\n",
              "  </thead>\n",
              "  <tbody>\n",
              "    <tr>\n",
              "      <th>193</th>\n",
              "      <td>Data-Images/Cars/193.jpg</td>\n",
              "      <td>247</td>\n",
              "      <td>167</td>\n",
              "      <td>license_plate</td>\n",
              "      <td>3</td>\n",
              "      <td>22</td>\n",
              "      <td>250</td>\n",
              "      <td>189</td>\n",
              "    </tr>\n",
              "    <tr>\n",
              "      <th>44</th>\n",
              "      <td>Data-Images/Cars/44.jpg</td>\n",
              "      <td>291</td>\n",
              "      <td>67</td>\n",
              "      <td>license_plate</td>\n",
              "      <td>595</td>\n",
              "      <td>463</td>\n",
              "      <td>886</td>\n",
              "      <td>530</td>\n",
              "    </tr>\n",
              "    <tr>\n",
              "      <th>155</th>\n",
              "      <td>Data-Images/Cars/155.jpg</td>\n",
              "      <td>562</td>\n",
              "      <td>113</td>\n",
              "      <td>license_plate</td>\n",
              "      <td>315</td>\n",
              "      <td>279</td>\n",
              "      <td>877</td>\n",
              "      <td>392</td>\n",
              "    </tr>\n",
              "    <tr>\n",
              "      <th>223</th>\n",
              "      <td>Data-Images/Cars/223.jpg</td>\n",
              "      <td>212</td>\n",
              "      <td>82</td>\n",
              "      <td>license_plate</td>\n",
              "      <td>136</td>\n",
              "      <td>195</td>\n",
              "      <td>348</td>\n",
              "      <td>277</td>\n",
              "    </tr>\n",
              "    <tr>\n",
              "      <th>107</th>\n",
              "      <td>Data-Images/Cars/107.jpg</td>\n",
              "      <td>277</td>\n",
              "      <td>153</td>\n",
              "      <td>license_plate</td>\n",
              "      <td>38</td>\n",
              "      <td>36</td>\n",
              "      <td>315</td>\n",
              "      <td>189</td>\n",
              "    </tr>\n",
              "  </tbody>\n",
              "</table>\n",
              "</div>"
            ],
            "text/plain": [
              "                     filename  width  height  ... ymin  xmax  ymax\n",
              "193  Data-Images/Cars/193.jpg  247    167     ...  22   250   189 \n",
              "44   Data-Images/Cars/44.jpg   291    67      ...  463  886   530 \n",
              "155  Data-Images/Cars/155.jpg  562    113     ...  279  877   392 \n",
              "223  Data-Images/Cars/223.jpg  212    82      ...  195  348   277 \n",
              "107  Data-Images/Cars/107.jpg  277    153     ...  36   315   189 \n",
              "\n",
              "[5 rows x 8 columns]"
            ]
          },
          "metadata": {
            "tags": []
          },
          "execution_count": 16
        }
      ]
    },
    {
      "cell_type": "code",
      "metadata": {
        "id": "c93xQWkSJQig",
        "colab": {
          "base_uri": "https://localhost:8080/",
          "height": 197
        },
        "outputId": "b2b9fb62-0ec1-4da3-dfcc-1c7b6f7a72bb"
      },
      "source": [
        "test_labels.head()"
      ],
      "execution_count": null,
      "outputs": [
        {
          "output_type": "execute_result",
          "data": {
            "text/html": [
              "<div>\n",
              "<style scoped>\n",
              "    .dataframe tbody tr th:only-of-type {\n",
              "        vertical-align: middle;\n",
              "    }\n",
              "\n",
              "    .dataframe tbody tr th {\n",
              "        vertical-align: top;\n",
              "    }\n",
              "\n",
              "    .dataframe thead th {\n",
              "        text-align: right;\n",
              "    }\n",
              "</style>\n",
              "<table border=\"1\" class=\"dataframe\">\n",
              "  <thead>\n",
              "    <tr style=\"text-align: right;\">\n",
              "      <th></th>\n",
              "      <th>filename</th>\n",
              "      <th>width</th>\n",
              "      <th>height</th>\n",
              "      <th>class</th>\n",
              "      <th>xmin</th>\n",
              "      <th>ymin</th>\n",
              "      <th>xmax</th>\n",
              "      <th>ymax</th>\n",
              "    </tr>\n",
              "  </thead>\n",
              "  <tbody>\n",
              "    <tr>\n",
              "      <th>28</th>\n",
              "      <td>Data-Images/Cars/28.jpg</td>\n",
              "      <td>2126</td>\n",
              "      <td>491</td>\n",
              "      <td>license_plate</td>\n",
              "      <td>296</td>\n",
              "      <td>123</td>\n",
              "      <td>2422</td>\n",
              "      <td>614</td>\n",
              "    </tr>\n",
              "    <tr>\n",
              "      <th>82</th>\n",
              "      <td>Data-Images/Cars/82.jpg</td>\n",
              "      <td>266</td>\n",
              "      <td>175</td>\n",
              "      <td>license_plate</td>\n",
              "      <td>93</td>\n",
              "      <td>46</td>\n",
              "      <td>359</td>\n",
              "      <td>221</td>\n",
              "    </tr>\n",
              "    <tr>\n",
              "      <th>84</th>\n",
              "      <td>Data-Images/Cars/84.jpg</td>\n",
              "      <td>155</td>\n",
              "      <td>68</td>\n",
              "      <td>license_plate</td>\n",
              "      <td>102</td>\n",
              "      <td>208</td>\n",
              "      <td>257</td>\n",
              "      <td>276</td>\n",
              "    </tr>\n",
              "    <tr>\n",
              "      <th>97</th>\n",
              "      <td>Data-Images/Cars/97.jpg</td>\n",
              "      <td>98</td>\n",
              "      <td>53</td>\n",
              "      <td>license_plate</td>\n",
              "      <td>122</td>\n",
              "      <td>116</td>\n",
              "      <td>220</td>\n",
              "      <td>169</td>\n",
              "    </tr>\n",
              "    <tr>\n",
              "      <th>113</th>\n",
              "      <td>Data-Images/Cars/113.jpg</td>\n",
              "      <td>464</td>\n",
              "      <td>163</td>\n",
              "      <td>license_plate</td>\n",
              "      <td>15</td>\n",
              "      <td>121</td>\n",
              "      <td>479</td>\n",
              "      <td>284</td>\n",
              "    </tr>\n",
              "  </tbody>\n",
              "</table>\n",
              "</div>"
            ],
            "text/plain": [
              "                     filename  width  height  ... ymin  xmax  ymax\n",
              "28   Data-Images/Cars/28.jpg   2126   491     ...  123  2422  614 \n",
              "82   Data-Images/Cars/82.jpg   266    175     ...  46   359   221 \n",
              "84   Data-Images/Cars/84.jpg   155    68      ...  208  257   276 \n",
              "97   Data-Images/Cars/97.jpg   98     53      ...  116  220   169 \n",
              "113  Data-Images/Cars/113.jpg  464    163     ...  121  479   284 \n",
              "\n",
              "[5 rows x 8 columns]"
            ]
          },
          "metadata": {
            "tags": []
          },
          "execution_count": 17
        }
      ]
    },
    {
      "cell_type": "code",
      "metadata": {
        "id": "dADIiZhZJUs7",
        "colab": {
          "base_uri": "https://localhost:8080/",
          "height": 34
        },
        "outputId": "f4c97a0a-4f1b-4897-8e0e-bd18dfab9ef8"
      },
      "source": [
        "train_labels.shape"
      ],
      "execution_count": null,
      "outputs": [
        {
          "output_type": "execute_result",
          "data": {
            "text/plain": [
              "(225, 8)"
            ]
          },
          "metadata": {
            "tags": []
          },
          "execution_count": 18
        }
      ]
    },
    {
      "cell_type": "code",
      "metadata": {
        "id": "GxefIS_8JYsJ",
        "colab": {
          "base_uri": "https://localhost:8080/",
          "height": 34
        },
        "outputId": "df7c46a4-49fc-48d1-c648-e54d22d6e9f6"
      },
      "source": [
        "test_labels.shape"
      ],
      "execution_count": null,
      "outputs": [
        {
          "output_type": "execute_result",
          "data": {
            "text/plain": [
              "(12, 8)"
            ]
          },
          "metadata": {
            "tags": []
          },
          "execution_count": 19
        }
      ]
    },
    {
      "cell_type": "code",
      "metadata": {
        "id": "ryqhUe1LhhhC",
        "colab": {
          "base_uri": "https://localhost:8080/",
          "height": 35
        },
        "outputId": "a35b0950-521f-41fc-cac6-644befe22952"
      },
      "source": [
        "pwd"
      ],
      "execution_count": null,
      "outputs": [
        {
          "output_type": "execute_result",
          "data": {
            "application/vnd.google.colaboratory.intrinsic+json": {
              "type": "string"
            },
            "text/plain": [
              "'/content'"
            ]
          },
          "metadata": {
            "tags": []
          },
          "execution_count": 21
        }
      ]
    },
    {
      "cell_type": "markdown",
      "metadata": {
        "id": "V45vOFb_LfRI"
      },
      "source": [
        "# Manual inspection of the bounding boxes"
      ]
    },
    {
      "cell_type": "code",
      "metadata": {
        "id": "1kuthQb-JjxJ"
      },
      "source": [
        "image_1 = cv2.imread('136.jpg')\n",
        "image_1 = cv2.cvtColor(image_1,cv2.COLOR_BGR2RGB)"
      ],
      "execution_count": null,
      "outputs": []
    },
    {
      "cell_type": "code",
      "metadata": {
        "id": "2eUEg46WJyut",
        "colab": {
          "base_uri": "https://localhost:8080/",
          "height": 34
        },
        "outputId": "ae6b3bfd-571c-47c6-9d03-c8c1e6e2a682"
      },
      "source": [
        "# 155\t200\t328\t274\n",
        "cv2.rectangle(image_1, (155, 200), (328, 274), (255,0,0), 2)\n",
        "cv2.imwrite('rectangle.png', image_1)"
      ],
      "execution_count": null,
      "outputs": [
        {
          "output_type": "execute_result",
          "data": {
            "text/plain": [
              "True"
            ]
          },
          "metadata": {
            "tags": []
          },
          "execution_count": 23
        }
      ]
    },
    {
      "cell_type": "code",
      "metadata": {
        "id": "lRop8P86KH8f",
        "colab": {
          "base_uri": "https://localhost:8080/",
          "height": 268
        },
        "outputId": "82b36ac7-72ee-41c7-edee-90ea20099fa0"
      },
      "source": [
        "image = plt.imread('rectangle.png')\n",
        "plt.imshow(image)\n",
        "plt.show()"
      ],
      "execution_count": null,
      "outputs": [
        {
          "output_type": "display_data",
          "data": {
            "image/png": "[encoded data removed]",
            "text/plain": [
              "<Figure size 432x288 with 1 Axes>"
            ]
          },
          "metadata": {
            "tags": [],
            "needs_background": "light"
          }
        }
      ]
    },
    {
      "cell_type": "markdown",
      "metadata": {
        "id": "xOGZToutLiTn"
      },
      "source": [
        "# Serialize the dataframes"
      ]
    },
    {
      "cell_type": "code",
      "metadata": {
        "id": "YEYA_2kdDe_T"
      },
      "source": [
        "train_labels.to_csv('train_labels.csv', index=False)\n",
        "test_labels.to_csv('test_labels.csv', index=False)"
      ],
      "execution_count": null,
      "outputs": []
    }
  ]
}